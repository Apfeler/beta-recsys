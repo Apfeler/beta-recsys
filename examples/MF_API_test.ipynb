{
 "cells": [
  {
   "cell_type": "code",
   "execution_count": null,
   "metadata": {},
   "outputs": [],
   "source": [
    "import sys\n",
    "sys.path.append(\"../\")"
   ]
  },
  {
   "cell_type": "markdown",
   "metadata": {},
   "source": [
    "## Loading dataset"
   ]
  },
  {
   "cell_type": "code",
   "execution_count": null,
   "metadata": {},
   "outputs": [],
   "source": [
    "from beta_rec.datasets.movielens import Movielens_100k\n",
    "from beta_rec.data import BaseData\n",
    "dataset = Movielens_100k()\n",
    "split_dataset = dataset.load_leave_one_out(n_test=1)\n",
    "data =  BaseData(split_dataset)"
   ]
  },
  {
   "cell_type": "markdown",
   "metadata": {},
   "source": [
    "### Model config"
   ]
  },
  {
   "cell_type": "code",
   "execution_count": null,
   "metadata": {},
   "outputs": [],
   "source": [
    "config = {\n",
    "    \"config_file\":\"../configs/mf_default.json\"\n",
    "}\n",
    "# the 'config_file' key is required, that is used load a default config. Other keys can be specified to replace the default settings."
   ]
  },
  {
   "cell_type": "markdown",
   "metadata": {},
   "source": [
    "### Model intialization and training"
   ]
  },
  {
   "cell_type": "code",
   "execution_count": null,
   "metadata": {},
   "outputs": [],
   "source": [
    "from beta_rec.recommenders import MatrixFactorization\n",
    "model = MatrixFactorization(config)\n",
    "model.train(data)\n",
    "\n",
    "# @To be discussed\n",
    "# model.train(train_df) # Case 1, without validation, stop training by loss or max_epoch\n",
    "# model.train(train_df,valid_df[0]) # Case 2, with validation, stop training by performance on validation set\n",
    "# model.train(train_df,valid_df[0],test_df[0])  # Case 3, same as Case 2, but also evaluate performance for each epoch on test set.\n",
    "\n",
    "## Note that the best model will be save automatically, and record the model-save-dir."
   ]
  },
  {
   "cell_type": "markdown",
   "metadata": {},
   "source": [
    "### Model trainng"
   ]
  },
  {
   "cell_type": "code",
   "execution_count": null,
   "metadata": {},
   "outputs": [],
   "source": [
    "model.test(data.test[0])"
   ]
  },
  {
   "cell_type": "markdown",
   "metadata": {},
   "source": [
    "### Load a pre-trained Model, and Predict for new dataset"
   ]
  },
  {
   "cell_type": "code",
   "execution_count": null,
   "metadata": {},
   "outputs": [],
   "source": [
    "from beta_rec.recommenders import MatrixFactorization\n",
    "config = {\n",
    "    \"config_file\":\"../configs/mf_default.json\",\n",
    "}\n",
    "# model_dir = model.config[\"system\"][\"model_save_dir\"] # default saving dir for current model\n",
    "model_dir = \"/home/zm324/workspace/beta_rec/checkpoints/MF_default_20200912_173445_gccwwj/mf.model\" # a specfic model\n",
    "model = MatrixFactorization(config)\n",
    "model.init_engine(data) \n",
    "# this is necessary, since we cannot intialize a model before we get the the numbers of users and items\n",
    "\n",
    "model.load(model_dir = model_dir)\n",
    "scores = model.predict(data.test[0])\n",
    "scores"
   ]
  },
  {
   "cell_type": "code",
   "execution_count": null,
   "metadata": {},
   "outputs": [],
   "source": [
    "scores.shape"
   ]
  },
  {
   "cell_type": "markdown",
   "metadata": {},
   "source": [
    "## Model tuning"
   ]
  },
  {
   "cell_type": "code",
   "execution_count": null,
   "metadata": {},
   "outputs": [],
   "source": [
    "## Before using tune, you need to install beta_rec to your local python lib\n",
    "## E.g. go to the project folder, run:\n",
    "## python setup.py install --record files.txt\n",
    "\n",
    "## if something wrong, you can uninstall by: xargs rm -rf < files.txt\n",
    "\n",
    "config = {\n",
    "    \"config_file\":\"../configs/mf_default.json\",\n",
    "    \"tune\":True,\n",
    "    \"max_epoch\":2\n",
    "}\n",
    "from beta_rec.recommenders import MatrixFactorization\n",
    "model = MatrixFactorization(config)\n",
    "tune_result = model.train(data)\n",
    "tune_result"
   ]
  },
  {
   "cell_type": "markdown",
   "metadata": {},
   "source": [
    "### Note that ray version should be 0.8.5.\n"
   ]
  },
  {
   "cell_type": "code",
   "execution_count": null,
   "metadata": {},
   "outputs": [],
   "source": [
    "import ray\n",
    "ray.__version__"
   ]
  }
 ],
 "metadata": {
  "kernelspec": {
   "display_name": "beta_rec",
   "language": "python",
   "name": "python3"
  },
  "language_info": {
   "codemirror_mode": {
    "name": "ipython",
    "version": 3
   },
   "file_extension": ".py",
   "mimetype": "text/x-python",
   "name": "python",
   "nbconvert_exporter": "python",
   "pygments_lexer": "ipython3",
   "version": "3.8.5"
  }
 },
 "nbformat": 4,
 "nbformat_minor": 4
}
